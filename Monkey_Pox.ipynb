{
  "nbformat": 4,
  "nbformat_minor": 0,
  "metadata": {
    "colab": {
      "provenance": [],
      "gpuType": "T4",
      "authorship_tag": "ABX9TyPbzOrGHGubNcuwv2moFMAR",
      "include_colab_link": true
    },
    "kernelspec": {
      "name": "python3",
      "display_name": "Python 3"
    },
    "language_info": {
      "name": "python"
    },
    "accelerator": "GPU"
  },
  "cells": [
    {
      "cell_type": "markdown",
      "metadata": {
        "id": "view-in-github",
        "colab_type": "text"
      },
      "source": [
        "<a href=\"https://colab.research.google.com/github/NeuralNetGeek/monkeypox-diagnosis/blob/main/Monkey_Pox.ipynb\" target=\"_parent\"><img src=\"https://colab.research.google.com/assets/colab-badge.svg\" alt=\"Open In Colab\"/></a>"
      ]
    },
    {
      "cell_type": "code",
      "source": [
        "import numpy as np\n",
        "import pandas as pd\n",
        "from sklearn.model_selection import train_test_split, StratifiedKFold, cross_val_score, cross_validate\n",
        "from sklearn.preprocessing import StandardScaler\n",
        "from sklearn.linear_model import LogisticRegression\n",
        "from sklearn.neighbors import KNeighborsClassifier\n",
        "from sklearn.naive_bayes import GaussianNB\n",
        "from sklearn.ensemble import RandomForestClassifier, HistGradientBoostingClassifier\n",
        "from sklearn.svm import SVC\n",
        "from sklearn.metrics import make_scorer, accuracy_score, precision_score, recall_score, f1_score, roc_auc_score, classification_report, confusion_matrix, ConfusionMatrixDisplay, RocCurveDisplay, roc_curve\n",
        "from sklearn.model_selection import GridSearchCV, RandomizedSearchCV\n",
        "from sklearn.calibration import CalibratedClassifierCV\n",
        "import shap\n",
        "import matplotlib.pyplot as plt\n",
        "import warnings\n",
        "warnings.filterwarnings('ignore', category=FutureWarning)\n",
        "warnings.filterwarnings('ignore', category=UserWarning)"
      ],
      "metadata": {
        "id": "Hg6iTQ7Zh9_R"
      },
      "execution_count": 62,
      "outputs": []
    },
    {
      "cell_type": "markdown",
      "source": [
        "DATA COLLECTION\n",
        "\n",
        "The dataset was sourced from https://www.kaggle.com/datasets/muhammad4hmed/monkeypox-patients-dataset"
      ],
      "metadata": {
        "id": "qCaZn9NmWfDl"
      }
    },
    {
      "cell_type": "markdown",
      "source": [
        "DATA CLEANING, EXPLORATION AND PREPROCESSING"
      ],
      "metadata": {
        "id": "lZ5HgwFM11vr"
      }
    },
    {
      "cell_type": "code",
      "source": [
        "cols = ['Patient_ID', 'Systemic Illness', 'Rectal Pain', 'Sore Throat', 'Penile Oedema', 'Oral Lesions', 'Solitary Lesion', 'Swollen Tonsils', 'HIV Infection', 'Sexually Transmitted Infection', 'MonkeyPox']\n",
        "df = pd.read_csv('monkey.data.csv')\n",
        "df.columns = cols\n",
        "df.drop(['Patient_ID', 'Systemic Illness'], axis=1, inplace=True)\n",
        "\n",
        "df['Genital Symptoms'] = df[['Rectal Pain', 'Penile Oedema']].max(axis=1)\n",
        "\n",
        "features = ['Genital Symptoms', 'Oral Lesions', 'Sore Throat', 'Swollen Tonsils', 'Solitary Lesion', 'HIV Infection']\n",
        "\n",
        "df[features] = df[features].astype(int)\n",
        "\n",
        "df['Monkey Pox'] = df['MonkeyPox'].map({'Positive': 1, 'Negative': 0})\n",
        "df = df.drop(['Rectal Pain', 'Penile Oedema', 'Sexually Transmitted Infection', 'MonkeyPox'], axis=1)\n",
        "df.drop_duplicates(inplace=True)\n",
        "\n",
        "df.info()"
      ],
      "metadata": {
        "colab": {
          "base_uri": "https://localhost:8080/"
        },
        "outputId": "9d005a91-3c90-4acf-8b97-65755923bba6",
        "id": "mypJBF6-Ge8D"
      },
      "execution_count": 63,
      "outputs": [
        {
          "output_type": "stream",
          "name": "stdout",
          "text": [
            "<class 'pandas.core.frame.DataFrame'>\n",
            "Index: 128 entries, 0 to 1659\n",
            "Data columns (total 7 columns):\n",
            " #   Column            Non-Null Count  Dtype\n",
            "---  ------            --------------  -----\n",
            " 0   Sore Throat       128 non-null    int64\n",
            " 1   Oral Lesions      128 non-null    int64\n",
            " 2   Solitary Lesion   128 non-null    int64\n",
            " 3   Swollen Tonsils   128 non-null    int64\n",
            " 4   HIV Infection     128 non-null    int64\n",
            " 5   Genital Symptoms  128 non-null    int64\n",
            " 6   Monkey Pox        128 non-null    int64\n",
            "dtypes: int64(7)\n",
            "memory usage: 8.0 KB\n"
          ]
        }
      ]
    },
    {
      "cell_type": "code",
      "source": [
        "df['Monkey Pox'].value_counts()"
      ],
      "metadata": {
        "id": "Ol9Hx2di7Yfw",
        "collapsed": true,
        "colab": {
          "base_uri": "https://localhost:8080/",
          "height": 178
        },
        "outputId": "73026d62-0da6-4131-cfef-5e9bd4194d95"
      },
      "execution_count": 64,
      "outputs": [
        {
          "output_type": "execute_result",
          "data": {
            "text/plain": [
              "Monkey Pox\n",
              "0    64\n",
              "1    64\n",
              "Name: count, dtype: int64"
            ],
            "text/html": [
              "<div>\n",
              "<style scoped>\n",
              "    .dataframe tbody tr th:only-of-type {\n",
              "        vertical-align: middle;\n",
              "    }\n",
              "\n",
              "    .dataframe tbody tr th {\n",
              "        vertical-align: top;\n",
              "    }\n",
              "\n",
              "    .dataframe thead th {\n",
              "        text-align: right;\n",
              "    }\n",
              "</style>\n",
              "<table border=\"1\" class=\"dataframe\">\n",
              "  <thead>\n",
              "    <tr style=\"text-align: right;\">\n",
              "      <th></th>\n",
              "      <th>count</th>\n",
              "    </tr>\n",
              "    <tr>\n",
              "      <th>Monkey Pox</th>\n",
              "      <th></th>\n",
              "    </tr>\n",
              "  </thead>\n",
              "  <tbody>\n",
              "    <tr>\n",
              "      <th>0</th>\n",
              "      <td>64</td>\n",
              "    </tr>\n",
              "    <tr>\n",
              "      <th>1</th>\n",
              "      <td>64</td>\n",
              "    </tr>\n",
              "  </tbody>\n",
              "</table>\n",
              "</div><br><label><b>dtype:</b> int64</label>"
            ]
          },
          "metadata": {},
          "execution_count": 64
        }
      ]
    },
    {
      "cell_type": "code",
      "source": [
        "features_encoded = ['Genital Symptoms', 'Oral Lesions', 'Sore Throat', 'Swollen Tonsils', 'Solitary Lesion', 'HIV Infection']\n",
        "target = 'Monkey Pox'\n",
        "\n",
        "\n",
        "X = df[features_encoded]\n",
        "y = df[target]\n",
        "\n",
        "X_temp, X_test, y_temp, y_test = train_test_split(X, y, test_size=0.2, stratify=y, random_state=42)\n",
        "X_train, X_valid, y_train, y_valid = train_test_split(X_temp, y_temp, test_size=0.3, stratify=y_temp, random_state=42)\n",
        "\n",
        "scaler = StandardScaler()\n",
        "X_train_scaled = scaler.fit_transform(X_train)\n",
        "X_valid_scaled = scaler.transform(X_valid)\n",
        "X_test_scaled = scaler.transform(X_test)"
      ],
      "metadata": {
        "id": "_vTFcBM_leQ_"
      },
      "execution_count": 65,
      "outputs": []
    },
    {
      "cell_type": "markdown",
      "source": [
        "TRAIN, VALID AND TEST"
      ],
      "metadata": {
        "id": "9CehIgA62QIK"
      }
    },
    {
      "cell_type": "code",
      "source": [
        "def evaluate_classifiers(models, X_scaled, y, show_reports=True, show_confusion=True):\n",
        "    skf = StratifiedKFold(n_splits=5, shuffle=True, random_state=42)\n",
        "    summary = []\n",
        "\n",
        "    for name, model in models.items():\n",
        "        try:\n",
        "            cv_scores = cross_validate(model, X_scaled, y, cv=skf, scoring='f1')\n",
        "            mean_cv_score = cv_scores['test_score'].mean()\n",
        "\n",
        "            model.fit(X_scaled, y)\n",
        "            y_pred = model.predict(X_scaled)\n",
        "\n",
        "            acc = accuracy_score(y, y_pred)\n",
        "            prec = precision_score(y, y_pred, zero_division=0)\n",
        "            rec = recall_score(y, y_pred, zero_division=0)\n",
        "            f1 = f1_score(y, y_pred, zero_division=0)\n",
        "\n",
        "            roc_auc = np.nan\n",
        "            if hasattr(model, \"predict_proba\"):\n",
        "                y_prob = model.predict_proba(X_scaled)[:, 1]\n",
        "                if len(np.unique(y)) > 1:\n",
        "                    roc_auc = roc_auc_score(y, y_prob)\n",
        "                else:\n",
        "                    roc_auc = np.nan\n",
        "\n",
        "            summary.append({\n",
        "                'Model': name,\n",
        "                'Accuracy': acc,\n",
        "                'Precision': prec,\n",
        "                'Recall': rec,\n",
        "                'F1 Score': f1,\n",
        "                'ROC-AUC': roc_auc,\n",
        "                'Cross-Validation F1 Mean': mean_cv_score\n",
        "            })\n",
        "\n",
        "            if show_reports:\n",
        "                print(f\"\\nModel: {name}\")\n",
        "                print(f\"Cross-Validation F1 Mean: {mean_cv_score:.4f}\")\n",
        "                if show_confusion:\n",
        "                  print(\"Confusion Matrix:\")\n",
        "                  print(confusion_matrix(y, y_pred))\n",
        "                  print(\"\\nClassification Report:\")\n",
        "                  print(classification_report(y, y_pred, zero_division=0))\n",
        "\n",
        "        except Exception as e:\n",
        "            print(f\"\\nError with {name}: {e}\")\n",
        "            summary.append({\n",
        "                'Model': name,\n",
        "                'Accuracy': np.nan,\n",
        "                'Precision': np.nan,\n",
        "                'Recall': np.nan,\n",
        "                'F1 Score': np.nan,\n",
        "                'ROC-AUC': np.nan,\n",
        "                'Cross-Validation F1 Mean': np.nan\n",
        "            })\n",
        "\n",
        "    return pd.DataFrame(summary)\n",
        "\n",
        "models = {\n",
        "    \"Logistic Regression\": LogisticRegression(penalty='l1', C=1, solver='liblinear', class_weight='balanced', max_iter=200),\n",
        "    \"K-Nearest Neighbors\": KNeighborsClassifier(weights='uniform', n_neighbors=3),\n",
        "    \"Naive Bayes\": GaussianNB(var_smoothing=1e-08),\n",
        "    \"Support Vector Machine\": SVC(C=0.1, kernel='linear', gamma='scale', class_weight='balanced', probability=True)\n",
        "}\n",
        "\n",
        "\n",
        "results = evaluate_classifiers(models, X_train_scaled, y_train)\n",
        "print(\"\\nModel Performance Summary:\")\n",
        "print(results)"
      ],
      "metadata": {
        "id": "WTkVE_aN5Tl7",
        "colab": {
          "base_uri": "https://localhost:8080/"
        },
        "outputId": "a2003712-a9ea-4812-a7a4-8a0352f90736"
      },
      "execution_count": 66,
      "outputs": [
        {
          "output_type": "stream",
          "name": "stdout",
          "text": [
            "\n",
            "Model: Logistic Regression\n",
            "Cross-Validation F1 Mean: 0.4184\n",
            "Confusion Matrix:\n",
            "[[20 15]\n",
            " [11 25]]\n",
            "\n",
            "Classification Report:\n",
            "              precision    recall  f1-score   support\n",
            "\n",
            "           0       0.65      0.57      0.61        35\n",
            "           1       0.62      0.69      0.66        36\n",
            "\n",
            "    accuracy                           0.63        71\n",
            "   macro avg       0.64      0.63      0.63        71\n",
            "weighted avg       0.63      0.63      0.63        71\n",
            "\n",
            "\n",
            "Model: K-Nearest Neighbors\n",
            "Cross-Validation F1 Mean: 0.4332\n",
            "Confusion Matrix:\n",
            "[[21 14]\n",
            " [15 21]]\n",
            "\n",
            "Classification Report:\n",
            "              precision    recall  f1-score   support\n",
            "\n",
            "           0       0.58      0.60      0.59        35\n",
            "           1       0.60      0.58      0.59        36\n",
            "\n",
            "    accuracy                           0.59        71\n",
            "   macro avg       0.59      0.59      0.59        71\n",
            "weighted avg       0.59      0.59      0.59        71\n",
            "\n",
            "\n",
            "Model: Naive Bayes\n",
            "Cross-Validation F1 Mean: 0.4268\n",
            "Confusion Matrix:\n",
            "[[20 15]\n",
            " [12 24]]\n",
            "\n",
            "Classification Report:\n",
            "              precision    recall  f1-score   support\n",
            "\n",
            "           0       0.62      0.57      0.60        35\n",
            "           1       0.62      0.67      0.64        36\n",
            "\n",
            "    accuracy                           0.62        71\n",
            "   macro avg       0.62      0.62      0.62        71\n",
            "weighted avg       0.62      0.62      0.62        71\n",
            "\n",
            "\n",
            "Model: Support Vector Machine\n",
            "Cross-Validation F1 Mean: 0.4144\n",
            "Confusion Matrix:\n",
            "[[21 14]\n",
            " [14 22]]\n",
            "\n",
            "Classification Report:\n",
            "              precision    recall  f1-score   support\n",
            "\n",
            "           0       0.60      0.60      0.60        35\n",
            "           1       0.61      0.61      0.61        36\n",
            "\n",
            "    accuracy                           0.61        71\n",
            "   macro avg       0.61      0.61      0.61        71\n",
            "weighted avg       0.61      0.61      0.61        71\n",
            "\n",
            "\n",
            "Model Performance Summary:\n",
            "                    Model  Accuracy  Precision    Recall  F1 Score   ROC-AUC  \\\n",
            "0     Logistic Regression  0.633803   0.625000  0.694444  0.657895  0.671825   \n",
            "1     K-Nearest Neighbors  0.591549   0.600000  0.583333  0.591549  0.636508   \n",
            "2             Naive Bayes  0.619718   0.615385  0.666667  0.640000  0.671032   \n",
            "3  Support Vector Machine  0.605634   0.611111  0.611111  0.611111  0.336905   \n",
            "\n",
            "   Cross-Validation F1 Mean  \n",
            "0                  0.418442  \n",
            "1                  0.433165  \n",
            "2                  0.426845  \n",
            "3                  0.414394  \n"
          ]
        }
      ]
    },
    {
      "cell_type": "code",
      "source": [
        "def evaluate_model(model, X_valid_scaled, y_valid, show_confusion=True):\n",
        "    y_pred = model.predict(X_valid_scaled)\n",
        "\n",
        "    acc = accuracy_score(y_valid, y_pred)\n",
        "    prec = precision_score(y_valid, y_pred, zero_division=0)\n",
        "    rec = recall_score(y_valid, y_pred, zero_division=0)\n",
        "    f1 = f1_score(y_valid, y_pred, zero_division=0)\n",
        "\n",
        "    y_prob = None\n",
        "    roc_auc = 0.0\n",
        "    if hasattr(model, \"predict_proba\"):\n",
        "        y_prob = model.predict_proba(X_valid_scaled)[:, 1]\n",
        "        if len(np.unique(y_valid)) > 1:\n",
        "            roc_auc = roc_auc_score(y_valid, y_prob)\n",
        "\n",
        "    if show_confusion:\n",
        "        print(\"Confusion Matrix:\")\n",
        "        print(confusion_matrix(y_valid, y_pred))\n",
        "        print(\"Class Distribution:\", dict(pd.Series(y_valid).value_counts()))\n",
        "\n",
        "    return {\n",
        "        'Accuracy': acc,\n",
        "        'Precision': prec,\n",
        "        'Recall': rec,\n",
        "        'F1 Score': f1,\n",
        "        'ROC-AUC': roc_auc\n",
        "    }\n",
        "\n",
        "lr_valid_results = evaluate_model(models[\"Logistic Regression\"], X_valid_scaled, y_valid)\n",
        "knn_valid_results = evaluate_model(models[\"K-Nearest Neighbors\"], X_valid_scaled, y_valid)\n",
        "nb_valid_results = evaluate_model(models[\"Naive Bayes\"], X_valid_scaled, y_valid)\n",
        "\n",
        "comparison_df = pd.DataFrame({\n",
        "    \"Logistic Regression\": lr_valid_results,\n",
        "    \"K-Nearest Neighbors\": knn_valid_results,\n",
        "    \"Naive Bayes\": nb_valid_results\n",
        "})\n",
        "comparison_df = comparison_df.T\n",
        "\n",
        "print(\"\\nValidation Set Performance Comparison:\")\n",
        "print(comparison_df.round(4))"
      ],
      "metadata": {
        "id": "zSTOPU6xDbZW",
        "colab": {
          "base_uri": "https://localhost:8080/"
        },
        "outputId": "6f25dcc1-13df-47d8-f66f-d69a46e868da"
      },
      "execution_count": 67,
      "outputs": [
        {
          "output_type": "stream",
          "name": "stdout",
          "text": [
            "Confusion Matrix:\n",
            "[[ 5 11]\n",
            " [ 9  6]]\n",
            "Class Distribution: {0: np.int64(16), 1: np.int64(15)}\n",
            "Confusion Matrix:\n",
            "[[ 5 11]\n",
            " [ 5 10]]\n",
            "Class Distribution: {0: np.int64(16), 1: np.int64(15)}\n",
            "Confusion Matrix:\n",
            "[[ 6 10]\n",
            " [ 8  7]]\n",
            "Class Distribution: {0: np.int64(16), 1: np.int64(15)}\n",
            "\n",
            "Validation Set Performance Comparison:\n",
            "                     Accuracy  Precision  Recall  F1 Score  ROC-AUC\n",
            "Logistic Regression    0.3548     0.3529  0.4000    0.3750   0.3750\n",
            "K-Nearest Neighbors    0.4839     0.4762  0.6667    0.5556   0.4271\n",
            "Naive Bayes            0.4194     0.4118  0.4667    0.4375   0.3833\n"
          ]
        }
      ]
    },
    {
      "cell_type": "code",
      "source": [
        "svm_base = SVC(C=0.1, kernel='linear', gamma='scale', class_weight='balanced', probability=True, random_state=42)\n",
        "calibrated_svm = CalibratedClassifierCV(svm_base, method='sigmoid', cv=5)\n",
        "\n",
        "calibrated_svm.fit(X_train_scaled, y_train)\n",
        "\n",
        "svm_valid_results = evaluate_model(calibrated_svm, X_valid_scaled, y_valid, show_confusion=True)\n",
        "\n",
        "comparison_df.loc[\"Calibrated SVM\"] = pd.Series(svm_valid_results)\n",
        "\n",
        "print(\"\\nUpdated Validation Set Performance Comparison:\")\n",
        "print(comparison_df.round(4))"
      ],
      "metadata": {
        "colab": {
          "base_uri": "https://localhost:8080/"
        },
        "id": "Wyq8KpWQYq1M",
        "outputId": "58d3af43-86a7-4e1f-bf8a-3aa70ab6029a"
      },
      "execution_count": 68,
      "outputs": [
        {
          "output_type": "stream",
          "name": "stdout",
          "text": [
            "Confusion Matrix:\n",
            "[[7 9]\n",
            " [8 7]]\n",
            "Class Distribution: {0: np.int64(16), 1: np.int64(15)}\n",
            "\n",
            "Updated Validation Set Performance Comparison:\n",
            "                     Accuracy  Precision  Recall  F1 Score  ROC-AUC\n",
            "Logistic Regression    0.3548     0.3529  0.4000    0.3750   0.3750\n",
            "K-Nearest Neighbors    0.4839     0.4762  0.6667    0.5556   0.4271\n",
            "Naive Bayes            0.4194     0.4118  0.4667    0.4375   0.3833\n",
            "Calibrated SVM         0.4516     0.4375  0.4667    0.4516   0.4333\n"
          ]
        }
      ]
    }
  ]
}